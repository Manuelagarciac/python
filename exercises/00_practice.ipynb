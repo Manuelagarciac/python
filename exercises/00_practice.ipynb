{
 "cells": [
  {
   "attachments": {},
   "cell_type": "markdown",
   "metadata": {},
   "source": [
    "## Ejercicios"
   ]
  },
  {
   "attachments": {},
   "cell_type": "markdown",
   "metadata": {},
   "source": [
    "Ejercicio 1. Escriba un programa que pida dos números A y B e imprima en pantalla el residuo\n",
    "de la división A/B."
   ]
  },
  {
   "cell_type": "code",
   "execution_count": null,
   "metadata": {},
   "outputs": [],
   "source": [
    "def div_rsduo():\n",
    "    a = int(input('Ingrese el dividendo: '))\n",
    "    b = int(input('Ingrese el divisor: '))\n",
    "    r = a % b\n",
    "    return print(f'El residuo de la division {a}/{b} es : {r}')\n",
    "\n",
    "div_rsduo()\n",
    "\n",
    "# Ahora con parametros\n",
    "\n",
    "def div_rsduo_param(a, b):\n",
    "    r = a % b\n",
    "    return print(f'El residuo de la division {a}/{b} es : {r}')\n",
    "\n",
    "div_rsduo_param(8, 3)"
   ]
  },
  {
   "attachments": {},
   "cell_type": "markdown",
   "metadata": {},
   "source": [
    "Ejercicio 2. Escriba un programa que pida un número N e imprima en pantalla si es par o impar."
   ]
  },
  {
   "cell_type": "code",
   "execution_count": null,
   "metadata": {},
   "outputs": [],
   "source": [
    "def par_impar():\n",
    "    n = int(input('Ingrese un número: '))\n",
    "    if n % 2 == 0:\n",
    "        print(f'{n} es par')\n",
    "    else:\n",
    "        print(f'{n} es impar')\n",
    "\n",
    "par_impar()"
   ]
  },
  {
   "attachments": {},
   "cell_type": "markdown",
   "metadata": {},
   "source": [
    "Ejercicio 3. Escriba un programa que pida dos números A y B e imprima en pantalla el mayor."
   ]
  },
  {
   "cell_type": "code",
   "execution_count": null,
   "metadata": {},
   "outputs": [],
   "source": [
    "def mayorque():\n",
    "    a = int(input('Ingrese el primer número a comparar: '))\n",
    "    b = int(input('Ingrese el segundo número a comparar: '))\n",
    "    if a > b:\n",
    "        print(f'El mayor es {a}')\n",
    "    else:\n",
    "        print(f'El mayor es {b}')\n",
    "\n",
    "mayorque()"
   ]
  },
  {
   "attachments": {},
   "cell_type": "markdown",
   "metadata": {},
   "source": [
    "Ejercicio 4. Escriba un programa que pida dos números A y B e imprima en pantalla el menor."
   ]
  },
  {
   "cell_type": "code",
   "execution_count": null,
   "metadata": {},
   "outputs": [],
   "source": [
    "def menorque():\n",
    "    a = int(input('Ingrese el primer número a comparar: '))\n",
    "    b = int(input('Ingrese el segundo número a comparar: '))\n",
    "    if a < b:\n",
    "        print(f'El menor es {a}')\n",
    "    else:\n",
    "        print(f'El menor es {b}')\n",
    "\n",
    "menorque()"
   ]
  },
  {
   "attachments": {},
   "cell_type": "markdown",
   "metadata": {},
   "source": [
    "Ejercicio 5. Escriba un programa que pida dos números A y B e imprima en pantalla la división A/B con redondeo."
   ]
  },
  {
   "cell_type": "code",
   "execution_count": null,
   "metadata": {},
   "outputs": [],
   "source": [
    "def div():\n",
    "    a = int(input('Ingrese el dividendo: '))\n",
    "    b = int(input('Ingrese el divisor: '))\n",
    "    r = a // b\n",
    "    return print(f'{a}/{b} = {r}')\n",
    "\n",
    "div()"
   ]
  },
  {
   "attachments": {},
   "cell_type": "markdown",
   "metadata": {},
   "source": [
    "Ejercicio 6. Escriba un programa que pida dos números A y B e imprima en pantalla la potencia AB, sin hacer uso de librerías matemáticas."
   ]
  },
  {
   "cell_type": "code",
   "execution_count": null,
   "metadata": {},
   "outputs": [],
   "source": [
    "def potencia():\n",
    "    a = int(input('Ingrese el número base: '))\n",
    "    b = int(input('Ingrese el número exponente: '))\n",
    "    r = a ** b\n",
    "    return print(f'{a}∧{b} = {r}')\n",
    "\n",
    "potencia()"
   ]
  },
  {
   "attachments": {},
   "cell_type": "markdown",
   "metadata": {},
   "source": [
    "Ejercicio 7. Escriba un programa que pida un número N e imprima en pantalla la suma de todos los números entre 0 y N (incluyéndose el mismo)."
   ]
  },
  {
   "cell_type": "code",
   "execution_count": null,
   "metadata": {},
   "outputs": [],
   "source": [
    "def sumatoria():\n",
    "    n = int(input('Ingrese un número: '))\n",
    "    r = 0\n",
    "    for i in range(0, n+1):\n",
    "        # r = r + i (i = cada valor que va de 0 a n)\n",
    "        r+=i\n",
    "    return print(f'La sumatoria desde 0 hasta {n} es: {r}')\n",
    "\n",
    "sumatoria()"
   ]
  },
  {
   "attachments": {},
   "cell_type": "markdown",
   "metadata": {},
   "source": [
    "Ejercicio 8. Escriba un programa que pida un número N e imprima en pantalla su factorial."
   ]
  },
  {
   "cell_type": "code",
   "execution_count": null,
   "metadata": {},
   "outputs": [],
   "source": [
    "def factorial():\n",
    "    n = int(input('Ingrese un número: '))\n",
    "    r = 1\n",
    "    for i in range(1, n+1):\n",
    "        r*=i\n",
    "    return print(f'{n}!={r}')\n",
    "\n",
    "factorial()"
   ]
  },
  {
   "attachments": {},
   "cell_type": "markdown",
   "metadata": {},
   "source": [
    "Ejercicio 9. Escriba un programa que pida un número N e imprima el perímetro y área de un\n",
    "círculo con radio N."
   ]
  },
  {
   "cell_type": "code",
   "execution_count": null,
   "metadata": {},
   "outputs": [],
   "source": [
    "from math import pi\n",
    "def areayperimetro():\n",
    "    n = float(input('Ingrese un número: '))\n",
    "    area = pi * n**2\n",
    "    perimetro = 2 * pi * n\n",
    "    print('Area: ', area), print('Perimetro:', perimetro)\n",
    "\n",
    "areayperimetro()"
   ]
  },
  {
   "attachments": {},
   "cell_type": "markdown",
   "metadata": {},
   "source": [
    "Ejercicio 10. Escriba un programa que pida un número N e imprima en pantalla todos los múltiplos\n",
    "de dicho número entre 1 y 100."
   ]
  },
  {
   "cell_type": "code",
   "execution_count": null,
   "metadata": {},
   "outputs": [],
   "source": [
    "def multiplos_n():\n",
    "    n = int(input('Ingrese un número: '))\n",
    "    x = []\n",
    "    for i in range(1,101):\n",
    "        if i % n == 0:\n",
    "            r = x.append(i)\n",
    "    print(f'Mutliplos de {n} entre 1 y 100: {x}')\n",
    "\n",
    "multiplos_n()\n",
    "        "
   ]
  },
  {
   "attachments": {},
   "cell_type": "markdown",
   "metadata": {},
   "source": [
    "Ejercicio 11. Escriba un programa que pida un número N e imprima en pantalla su tabla de multiplicar hasta 10xN."
   ]
  },
  {
   "cell_type": "code",
   "execution_count": null,
   "metadata": {},
   "outputs": [],
   "source": [
    "def tabla_10():\n",
    "    n = int(input('Ingrese un número: '))\n",
    "    for i in range(0, 11):\n",
    "        r = n*i\n",
    "        print(f'{i} x {n} = {r}')\n",
    "\n",
    "tabla_10()"
   ]
  },
  {
   "attachments": {},
   "cell_type": "markdown",
   "metadata": {},
   "source": [
    "Ejercicio 12. Escriba un programa que pida un número N e imprima todas las potencias desde N1\n",
    "hasta N5."
   ]
  },
  {
   "cell_type": "code",
   "execution_count": null,
   "metadata": {},
   "outputs": [],
   "source": [
    "def potencia_5():\n",
    "    n = int(input('Ingrese un número: '))\n",
    "    for i in range(1, 6):\n",
    "        r = n**i\n",
    "        print(f'{n} ∧ {i} = {r}')\n",
    "\n",
    "potencia_5()"
   ]
  },
  {
   "attachments": {},
   "cell_type": "markdown",
   "metadata": {},
   "source": [
    "Ejercicio 13. Escriba un programa que pida un número N e imprima todos los divisores de N."
   ]
  },
  {
   "cell_type": "code",
   "execution_count": null,
   "metadata": {},
   "outputs": [],
   "source": [
    "def divisores():\n",
    "    n = int(input('Ingrese un número: '))\n",
    "    x = []\n",
    "    for i in range(1, n+1):\n",
    "        if n % i == 0:\n",
    "            x.append(i)\n",
    "    print(f'Los divisores de {n} son: {x}')\n",
    "\n",
    "divisores()"
   ]
  },
  {
   "attachments": {},
   "cell_type": "markdown",
   "metadata": {},
   "source": [
    "Ejercicio 14. Escriba un programa que imprima dos columnas paralelas, una con los números del\n",
    "1 al 50 y otra con los números del 50 al 1."
   ]
  },
  {
   "cell_type": "code",
   "execution_count": null,
   "metadata": {},
   "outputs": [],
   "source": [
    "def columnas_paralelas():\n",
    "    i = 1\n",
    "    j = 50\n",
    "    while i <= 50 and j >=1:\n",
    "        print(i, j)\n",
    "        i = i + 1\n",
    "        j = j - 1\n",
    "\n",
    "columnas_paralelas()"
   ]
  },
  {
   "attachments": {},
   "cell_type": "markdown",
   "metadata": {},
   "source": [
    "Ejercicio 15. Escriba un programa que pida constantemente números hasta que se ingrese el número\n",
    "cero e imprima en pantalla la suma de todos los números ingresados."
   ]
  },
  {
   "cell_type": "code",
   "execution_count": 30,
   "metadata": {},
   "outputs": [
    {
     "name": "stdout",
     "output_type": "stream",
     "text": [
      "El resultado de la sumatoria es: 6\n"
     ]
    }
   ],
   "source": [
    "def sum_all():\n",
    "    n = int(input('Ingrese un número: '))\n",
    "    x = 0\n",
    "    while n != 0:\n",
    "        x += n\n",
    "        n = int(input('Ingrese un número: '))\n",
    "    print(f'El resultado de la sumatoria es: {x}')\n",
    "\n",
    "sum_all()"
   ]
  },
  {
   "attachments": {},
   "cell_type": "markdown",
   "metadata": {},
   "source": [
    "Ejercicio 16. Escriba un programa que pida constantemente números hasta que se ingrese el número cero e imprima en pantalla el promedio de los números ingresados (excluyendo el cero)."
   ]
  },
  {
   "cell_type": "code",
   "execution_count": 31,
   "metadata": {},
   "outputs": [
    {
     "name": "stdout",
     "output_type": "stream",
     "text": [
      "El promedio es: 2.0\n"
     ]
    }
   ],
   "source": [
    "def prom_0():\n",
    "    n = int(input('Ingrese un número: '))\n",
    "    r=0\n",
    "    d=0\n",
    "    while n != 0:\n",
    "        r=r+n\n",
    "        n = int(input('Ingrese un número: '))\n",
    "        d=d+1\n",
    "    print(f'El promedio es: {r/d}') \n",
    "\n",
    "prom_0()   "
   ]
  },
  {
   "attachments": {},
   "cell_type": "markdown",
   "metadata": {},
   "source": [
    "Ejercicio 17. Escriba un programa que pida constantemente números hasta que se ingrese el número\n",
    "cero e imprima en pantalla el mayor de todos los números ingresados."
   ]
  },
  {
   "cell_type": "code",
   "execution_count": 33,
   "metadata": {},
   "outputs": [
    {
     "name": "stdout",
     "output_type": "stream",
     "text": [
      "El número mayor ingresado fue:  11\n"
     ]
    }
   ],
   "source": [
    "numeroMayor = 0\n",
    "\n",
    "while True:\n",
    "    numero = int(input(\"Ingrese un número (0 para salir): \"))\n",
    "    if numero == 0:\n",
    "        break\n",
    "    if numero > numeroMayor:\n",
    "        numeroMayor = numero\n",
    "\n",
    "print(\"El número mayor ingresado fue: \", numeroMayor)"
   ]
  },
  {
   "attachments": {},
   "cell_type": "markdown",
   "metadata": {},
   "source": [
    "Ejercicio 27. Escriba un programa que actúe como una calculadora con operaciones de suma,\n",
    "resta, multiplicación y división, el usuario debe ingresar los operandos y la operación a realizar."
   ]
  },
  {
   "cell_type": "code",
   "execution_count": null,
   "metadata": {},
   "outputs": [],
   "source": [
    "def calculadora():\n",
    "    op1 = int(input('Ingrese el primer operando: '))\n",
    "    signo = str(input('Ingrese la operacion a realizar: '))\n",
    "    op2 = int(input('Ingrese el segundo operando: '))\n",
    "    if signo == '+':\n",
    "        r = op1 + op2\n",
    "    elif signo == '-':\n",
    "        r = op1 - op2\n",
    "    elif signo == '*':\n",
    "        r = op1 * op2\n",
    "    else:\n",
    "        r = op1 / op2\n",
    "    return print(f'{op1} {signo} {op2} = {r}')\n",
    "\n",
    "calculadora()"
   ]
  }
 ],
 "metadata": {
  "kernelspec": {
   "display_name": "Python 3",
   "language": "python",
   "name": "python3"
  },
  "language_info": {
   "codemirror_mode": {
    "name": "ipython",
    "version": 3
   },
   "file_extension": ".py",
   "mimetype": "text/x-python",
   "name": "python",
   "nbconvert_exporter": "python",
   "pygments_lexer": "ipython3",
   "version": "3.10.4"
  },
  "orig_nbformat": 4,
  "vscode": {
   "interpreter": {
    "hash": "3ad933181bd8a04b432d3370b9dc3b0662ad032c4dfaa4e4f1596c548f763858"
   }
  }
 },
 "nbformat": 4,
 "nbformat_minor": 2
}
